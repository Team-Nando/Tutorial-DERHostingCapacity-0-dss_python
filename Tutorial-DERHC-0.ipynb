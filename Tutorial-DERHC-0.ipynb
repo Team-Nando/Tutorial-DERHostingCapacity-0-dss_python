{
 "cells": [
  {
   "cell_type": "markdown",
   "metadata": {},
   "source": [
    "# Tutorial on DER Hosting Capacity | <font color=red>Part 0</font>: Using dss_python\n",
    "\n",
    "Part 0 is about how to interact with the dss_python module, a built-in Python library to replace using OpenDSS via the COM interface. This makes simulations and the handling of data/results much faster as everything will be native to Python. The dss_python module is built as a drop-in replacement for the COM interface where 99% of the code does not need to be changed. More information about dss_python can be found in https://dss-extensions.org/. Thanks to our colleagues and friends at the University of Campinas (UNICAMP, https://www.unicamp.br/), Brazil for this contribution!\n",
    "\n",
    "<font color='red'>**<u>Note</u>:**</font> The use of dss_python implies you will be using (and, therefore, you will be limited to) the embedded models and control functions of OpenDSS for particular elements. For instance, you can use OpenDSS's Volt-Watt function for solar PV systems. But you will not be able to modify it to do simultaneous Volt-Watt and Volt-var. If you need to create specific functionalities in Python, then you will need to interact with OpenDSS via the COM interface (which can also be done using Python)."
   ]
  },
  {
   "cell_type": "markdown",
   "metadata": {},
   "source": [
    "## 1. Introduction \n",
    "\n",
    "### Objectives \n",
    "The objectives of this tutorial are:\n",
    "1. To familiarise with the process by which power engineers can run a **power flow** for a given **low voltage (LV) distribution network**. To achieve this, you will learn the basics of how to model an LV distribution network and investigate certain aspects such as voltage regulation and energy losses.\n",
    "\n",
    "2. To familiarise with advanced tools. You will be using the programming language Python and the advanced distribution network analysis tool [OpenDSS](https://www.epri.com/pages/sa/opendss), an open source tool developed by the [Electric Power Research Institute (EPRI)](https://www.epri.com) in the US. OpenDSS will be used here entirely with Python code thanks to the [dss_python](https://github.com/dss-extensions/dss_python) module developed by researchers at the [University of Campinas](https://www.unicamp.br/unicamp/) in Brazil. And, to guide you, all will be done using a notebook on [Jupyter Notebook](https://jupyter.org/).\n",
    "\n",
    "### Structure of this Notebook\n",
    "The rest of this notebook is divided into two parts:\n",
    "\n",
    "- **2. Tutorial.** Here you will learn, step by step, how to model a distribution network and analyse what-if scenarios by running power flows with OpenDSS and Python.\n",
    "- **3. Simulation Workspace.** Here you can place all your code to run it at once."
   ]
  },
  {
   "cell_type": "markdown",
   "metadata": {},
   "source": [
    "## 2. Tutorial\n",
    "### 2.1 Check both libraries are installed\n",
    "#### Initialise OpenDSS object via COM interface"
   ]
  },
  {
   "cell_type": "code",
   "execution_count": null,
   "metadata": {},
   "outputs": [],
   "source": [
    "import win32com.client\n",
    "dss_via_com = win32com.client.gencache.EnsureDispatch('OpendssEngine.dss') # uses early binding\n",
    "print(dss_via_com) # check objective type"
   ]
  },
  {
   "cell_type": "markdown",
   "metadata": {},
   "source": [
    "#### OpenDSS objective via dss_direct library"
   ]
  },
  {
   "cell_type": "code",
   "execution_count": null,
   "metadata": {},
   "outputs": [],
   "source": [
    "import dss\n",
    "dss_via_python = dss.DSS\n",
    "print(dss_via_python) # check objective type"
   ]
  },
  {
   "cell_type": "markdown",
   "metadata": {
    "pycharm": {
     "name": "#%% md\n"
    }
   },
   "source": [
    "### 2.2 Create simple network\n",
    "#### 2.2.1 Initialise data for the network"
   ]
  },
  {
   "cell_type": "code",
   "execution_count": null,
   "metadata": {},
   "outputs": [],
   "source": [
    "import os\n",
    "text_commands = [\n",
    "    'clear',\n",
    "    'set DefaultBaseFrequency=50',\n",
    "    'new circuit.test_lv_feeder bus1=slack basekv=0.4 pu=1.0 angle=0 frequency=50 phases=3',    \n",
    "    'new line.slack-B1 phases=3 bus1=slack bus2=B1 r1=0.1 x1=0.1 r0=0.05 x0=0.05 length=1',\n",
    "    'new line.B1-B2 phases=3 bus1=B1 bus2=B2 r1=0.1 x1=0.1 r0=0.05 x0=0.05 length=1',\n",
    "    'new line.B2-B3 phases=3 bus1=B2 bus2=B3 r1=0.1 x1=0.1 r0=0.05 x0=0.05 length=1',\n",
    "    'new loadshape.demand npts=24 interval=1.0 mult={1.0, 1.0, 1.0, 1.0, 1.0, 1.0, 3.0, 5.0, 3.0, 1.0, 1.0, 1.0, 1.0, 1.0, 1.0, 1.0, 3.0, 5.0, 7.0, 7.0, 5.0, 3.0, 1.0, 1.0,}',\n",
    "    'new loadshape.solar  npts=24 interval=1.0 mult={0.0, 0.0, 0.0, 0.0, 0.0, 0.0, 0.1, 0.3, 0.5, 0.7, 0.8, 1.0, 0.8, 0.7, 0.5, 0.3, 0.1, 0.0, 0.0, 0.0, 0.0, 0.0, 0.0, 0.0,}',   \n",
    "    'new load.house phases=1 bus1=B3.1 kv=0.23 kw=1 kvar=0 vmaxpu=1.5 vminpu=0.8 daily=demand',\n",
    "    'new generator.pv_system phases=1 bus1=B3.2 kv=0.23 kw=5 pf=1 vmaxpu=1.5 vminpu=0.8 daily=solar',\n",
    "    'reset',\n",
    "    'set ControlMode=Time',\n",
    "    'set Mode=Daily StepSize=1h Number=1 Time=(0,0)',\n",
    "    'set VoltageBases=[0.4]',\n",
    "    'calcv',    \n",
    "]"
   ]
  },
  {
   "cell_type": "markdown",
   "metadata": {},
   "source": [
    "#### 2.2.2 Create network in dss_via_com & run simulation"
   ]
  },
  {
   "cell_type": "code",
   "execution_count": null,
   "metadata": {},
   "outputs": [],
   "source": [
    "# only run this once\n",
    "dss_via_com.Start(0)\n",
    "dss_via_com.AllowForms = True"
   ]
  },
  {
   "cell_type": "code",
   "execution_count": null,
   "metadata": {},
   "outputs": [],
   "source": [
    "for cmd in text_commands:\n",
    "    dss_via_com.Text.Command = cmd\n",
    "    \n",
    "p_pv_system_com = [0 for t in range(24)]\n",
    "v_pv_system_com = [0 for t in range(24)]\n",
    "p_house_com = [0 for t in range(24)]\n",
    "v_house_com = [0 for t in range(24)]\n",
    "for t in range(24):\n",
    "    dss_via_com.ActiveCircuit.Solution.Solve()\n",
    "    \n",
    "    dss_via_com.ActiveCircuit.SetActiveElement('load.house')\n",
    "    p_house_com[t] = dss_via_com.ActiveCircuit.ActiveElement.Powers[0]\n",
    "    v_house_com[t] = dss_via_com.ActiveCircuit.ActiveElement.VoltagesMagAng[0]\n",
    "    \n",
    "    dss_via_com.ActiveCircuit.SetActiveElement('generator.pv_system')\n",
    "    p_pv_system_com[t] = dss_via_com.ActiveCircuit.ActiveElement.Powers[0]\n",
    "    v_pv_system_com[t] = dss_via_com.ActiveCircuit.ActiveElement.VoltagesMagAng[0]"
   ]
  },
  {
   "cell_type": "markdown",
   "metadata": {
    "pycharm": {
     "name": "#%% md\n"
    }
   },
   "source": [
    "#### Plot results\n",
    "* Note: If you copy the code to Python, the %matplotlib inline code will not work. Replace that line with the following lines:\n",
    " * from IPython import get_ipython\n",
    " * get_ipython().run_line_magic('matplotlib', 'inline')"
   ]
  },
  {
   "cell_type": "code",
   "execution_count": null,
   "metadata": {},
   "outputs": [],
   "source": [
    "import matplotlib.pyplot as plt\n",
    "%matplotlib inline\n",
    "plt.figure(figsize=(12,8))\n",
    "plt.suptitle('Using COM interface')\n",
    "plt.subplot(2,2,1)\n",
    "plt.plot(p_pv_system_com)\n",
    "plt.title('Power (kW)')\n",
    "plt.ylabel('PV System', fontweight='bold')\n",
    "plt.xticks([0,6,12,18,24])\n",
    "plt.subplot(2,2,2)\n",
    "plt.plot(v_pv_system_com)\n",
    "plt.title('Voltage (V)')\n",
    "plt.xticks([0,6,12,18,24])\n",
    "plt.subplot(2,2,3)\n",
    "plt.plot(p_house_com)\n",
    "plt.ylabel('House', fontweight='bold')\n",
    "plt.xticks([0,6,12,18,24])\n",
    "plt.subplot(2,2,4)\n",
    "plt.plot(v_house_com)\n",
    "plt.xticks([0,6,12,18,24])\n",
    "plt.show()"
   ]
  },
  {
   "cell_type": "markdown",
   "metadata": {
    "pycharm": {
     "name": "#%% md\n"
    }
   },
   "source": [
    "#### 2.2.3 Repeat the same in dss_via_python\n",
    "* Note 1: If you copy the code to Python, remember to copy first the code from points 1.2 and 2.1.\n",
    "* Note 2: .AllowForms will not work in dss_python."
   ]
  },
  {
   "cell_type": "code",
   "execution_count": null,
   "metadata": {
    "pycharm": {
     "name": "#%%\n"
    }
   },
   "outputs": [],
   "source": [
    "dss_via_python.Start(0)\n",
    "# dss_via_python.AllowForms = True # this line will not run, try un-comment and run again\n",
    "\n",
    "for cmd in text_commands:\n",
    "    dss_via_python.Text.Command = cmd\n",
    "    \n",
    "p_pv_system_python = [0 for t in range(24)]\n",
    "v_pv_system_python = [0 for t in range(24)]\n",
    "p_house_python = [0 for t in range(24)]\n",
    "v_house_python = [0 for t in range(24)]\n",
    "\n",
    "for t in range(24):\n",
    "    dss_via_python.ActiveCircuit.Solution.Solve()\n",
    "    \n",
    "    dss_via_python.ActiveCircuit.SetActiveElement('load.house')\n",
    "    p_house_python[t] = dss_via_python.ActiveCircuit.ActiveElement.Powers[0]\n",
    "    v_house_python[t] = dss_via_python.ActiveCircuit.ActiveElement.VoltagesMagAng[0]\n",
    "    \n",
    "    dss_via_python.ActiveCircuit.SetActiveElement('generator.pv_system')\n",
    "    p_pv_system_python[t] = dss_via_python.ActiveCircuit.ActiveElement.Powers[0]\n",
    "    v_pv_system_python[t] = dss_via_python.ActiveCircuit.ActiveElement.VoltagesMagAng[0]"
   ]
  },
  {
   "cell_type": "markdown",
   "metadata": {},
   "source": [
    "#### Plot results again, should match perfectly with the one above\n",
    "* Note: If you copy the code to Python, the %matplotlib inline code will not work. Replace that line with the following lines:\n",
    " * from IPython import get_ipython\n",
    " * get_ipython().run_line_magic('matplotlib', 'inline')"
   ]
  },
  {
   "cell_type": "code",
   "execution_count": null,
   "metadata": {
    "pycharm": {
     "name": "#%%\n"
    }
   },
   "outputs": [],
   "source": [
    "import matplotlib.pyplot as plt\n",
    "%matplotlib inline\n",
    "plt.figure(figsize=(12,8))\n",
    "plt.suptitle('Using dss_python library')\n",
    "plt.subplot(2,2,1)\n",
    "plt.plot(p_pv_system_python)\n",
    "plt.title('Power (kW)')\n",
    "plt.ylabel('PV System', fontweight='bold')\n",
    "plt.xticks([0,6,12,18,24])\n",
    "plt.subplot(2,2,2)\n",
    "plt.plot(v_pv_system_python)\n",
    "plt.title('Voltage (V)')\n",
    "plt.xticks([0,6,12,18,24])\n",
    "plt.subplot(2,2,3)\n",
    "plt.plot(p_house_python)\n",
    "plt.ylabel('House', fontweight='bold')\n",
    "plt.xticks([0,6,12,18,24])\n",
    "plt.subplot(2,2,4)\n",
    "plt.plot(v_house_python)\n",
    "plt.xticks([0,6,12,18,24])\n",
    "plt.show()"
   ]
  },
  {
   "cell_type": "markdown",
   "metadata": {},
   "source": [
    "#### 2.2.4 Check numerical differences"
   ]
  },
  {
   "cell_type": "code",
   "execution_count": null,
   "metadata": {
    "pycharm": {
     "name": "#%%\n"
    }
   },
   "outputs": [],
   "source": [
    "import numpy as np\n",
    "np.set_printoptions(suppress=True)"
   ]
  },
  {
   "cell_type": "code",
   "execution_count": null,
   "metadata": {
    "pycharm": {
     "name": "#%%\n"
    }
   },
   "outputs": [],
   "source": [
    "print(np.array(v_pv_system_com) - np.array(v_pv_system_python))"
   ]
  },
  {
   "cell_type": "code",
   "execution_count": null,
   "metadata": {
    "pycharm": {
     "name": "#%%\n"
    }
   },
   "outputs": [],
   "source": [
    "print(np.array(v_house_com) - np.array(v_house_python))"
   ]
  },
  {
   "cell_type": "markdown",
   "metadata": {},
   "source": [
    "## 3. Simulation Workspace"
   ]
  },
  {
   "cell_type": "code",
   "execution_count": null,
   "metadata": {},
   "outputs": [],
   "source": []
  }
 ],
 "metadata": {
  "kernelspec": {
   "display_name": "Python 3 (ipykernel)",
   "language": "python",
   "name": "python3"
  },
  "language_info": {
   "codemirror_mode": {
    "name": "ipython",
    "version": 3
   },
   "file_extension": ".py",
   "mimetype": "text/x-python",
   "name": "python",
   "nbconvert_exporter": "python",
   "pygments_lexer": "ipython3",
   "version": "3.9.13"
  }
 },
 "nbformat": 4,
 "nbformat_minor": 2
}
