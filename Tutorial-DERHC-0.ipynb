{
 "cells": [
  {
   "metadata": {},
   "cell_type": "markdown",
   "source": "# Tutorial on DER Hosting Capacity | <font color=red>Part 0</font>: Using DSS-Python"
  },
  {
   "metadata": {},
   "cell_type": "markdown",
   "source": [
    "## 1. Introduction \n",
    "\n",
    "### Objectives \n",
    "The objectives of this tutorial are:\n",
    "1. To familiarise with **advanced tools useful to run distribution network studies involving DERs**. You will be using the programming language Python and the advanced distribution network analysis tool [OpenDSS](https://www.epri.com/pages/sa/opendss) via the [DSS-Python](https://github.com/dss-extensions/DSS-Python) module. And, to guide you, all will be done using a notebook on [Jupyter Notebook](https://jupyter.org/).\n",
    "\n",
    "2. To interact with the **DSS-Python module** and show how it replaces using OpenDSS via the COM interface. This module makes simulations and the handling of data/results much faster as everything will be native to Python.\n",
    "\n",
    "<font color='red'>**<u>Note</u>:**</font> The use of dss-python implies you will be using (and, therefore, you will be limited to) the embedded models and control functions of OpenDSS for particular elements. For instance, you can use OpenDSS's Volt-Watt function for solar PV systems. But you will not be able to modify it to do simultaneous Volt-Watt and Volt-var. If you need to create specific functionalities in Python, then you will need to interact with OpenDSS via the COM interface (which can also be done using Python).\n",
    "\n",
    "\n",
    "### Structure of this Notebook\n",
    "The rest of this notebook is divided into two parts:\n",
    "\n",
    "- **2. Tutorial.** Here you will learn, step by step, how to model a distribution network and analyse what-if scenarios by running power flows with OpenDSS and Python.\n",
    "- **3. Simulation Workspace.** Here you can place all your code to run it at once."
   ]
  },
  {
   "metadata": {},
   "cell_type": "markdown",
   "source": [
    "## 2. Tutorial\n",
    "### 2.1 Check both libraries are installed\n",
    "#### Initialise OpenDSS object via COM interface"
   ]
  },
  {
   "metadata": {},
   "cell_type": "code",
   "source": [
    "import win32com.client\n",
    "dss_via_com = win32com.client.Dispatch(\"OpenDSSEngine.DSS\") # does NOT use early binding\n",
    "print(dss_via_com) # check object type"
   ],
   "outputs": [],
   "execution_count": null
  },
  {
   "metadata": {},
   "cell_type": "markdown",
   "source": "#### Initialise OpenDSS object via dss library (already installed using the DSS-Python module)"
  },
  {
   "metadata": {},
   "cell_type": "code",
   "source": [
    "import dss\n",
    "dss_via_python = dss.DSS\n",
    "print(dss_via_python) # check object type"
   ],
   "outputs": [],
   "execution_count": null
  },
  {
   "metadata": {},
   "cell_type": "markdown",
   "source": "#### Import other libraries"
  },
  {
   "metadata": {},
   "cell_type": "code",
   "source": [
    "import time # to capture the time taken to run the simulations\n",
    "import matplotlib.pyplot as plt # to plot the results\n",
    "import numpy as np # to handle numerical data"
   ],
   "outputs": [],
   "execution_count": null
  },
  {
   "metadata": {},
   "cell_type": "markdown",
   "source": [
    "### 2.2 Create simple network and run simulations\n",
    "#### 2.2.1 Initialise data for the network"
   ]
  },
  {
   "metadata": {},
   "cell_type": "code",
   "source": [
    "text_commands = [\n",
    "    'clear',\n",
    "    'set DefaultBaseFrequency=50',\n",
    "    'new circuit.test_lv_feeder bus1=slack basekv=0.4 pu=1.0 angle=0 frequency=50 phases=3',    \n",
    "    'new line.slack-B1 phases=3 bus1=slack bus2=B1 r1=0.1 x1=0.1 r0=0.05 x0=0.05 length=1',\n",
    "    'new line.B1-B2 phases=3 bus1=B1 bus2=B2 r1=0.1 x1=0.1 r0=0.05 x0=0.05 length=1',\n",
    "    'new line.B2-B3 phases=3 bus1=B2 bus2=B3 r1=0.1 x1=0.1 r0=0.05 x0=0.05 length=1',\n",
    "    'new loadshape.demand npts=24 interval=1.0 mult={1.0, 1.0, 1.0, 1.0, 1.0, 1.0, 3.0, 5.0, 3.0, 1.0, 1.0, 1.0, 1.0, 1.0, 1.0, 1.0, 3.0, 5.0, 7.0, 7.0, 5.0, 3.0, 1.0, 1.0,}',\n",
    "    'new loadshape.solar  npts=24 interval=1.0 mult={0.0, 0.0, 0.0, 0.0, 0.0, 0.0, 0.1, 0.3, 0.5, 0.7, 0.8, 1.0, 0.8, 0.7, 0.5, 0.3, 0.1, 0.0, 0.0, 0.0, 0.0, 0.0, 0.0, 0.0,}',   \n",
    "    'new load.house phases=1 bus1=B3.1 kv=0.23 kw=1 kvar=0 vmaxpu=1.5 vminpu=0.8 daily=demand',\n",
    "    'new generator.pv_system phases=1 bus1=B3.2 kv=0.23 kw=5 pf=1 vmaxpu=1.5 vminpu=0.8 daily=solar',\n",
    "    'reset',\n",
    "    'set ControlMode=Time',\n",
    "    'set Mode=Daily StepSize=1h Number=1 Time=(0,0)',\n",
    "    'set VoltageBases=[0.4]',\n",
    "    'calcv',    \n",
    "]"
   ],
   "outputs": [],
   "execution_count": null
  },
  {
   "metadata": {},
   "cell_type": "markdown",
   "source": "#### 2.2.2 Create network using dss_via_com and run simulation"
  },
  {
   "metadata": {},
   "cell_type": "code",
   "source": [
    "start_com = time.time()   # to capture the starting time dss via com\n",
    "# only run this once\n",
    "dss_via_com.Start(0)\n",
    "dss_via_com.AllowForms = True"
   ],
   "outputs": [],
   "execution_count": null
  },
  {
   "metadata": {},
   "cell_type": "code",
   "source": [
    "# Read the commands\n",
    "for cmd in text_commands:\n",
    "    dss_via_com.Text.Command = cmd\n",
    "    \n",
    "n_hours = 24 # Set the number of hours to run the simulation\n",
    "data_com = {\n",
    "    'PV System': {'element_name': 'generator.pv_system', 'Power (kW)': [], 'Voltage (V)': []},\n",
    "    'House': {'element_name': 'load.house', 'Power (kW)': [], 'Voltage (V)': []}\n",
    "}\n",
    "for t in range(n_hours):\n",
    "    dss_via_com.ActiveCircuit.Solution.Solve()\n",
    "    \n",
    "    for element in data_com.keys():\n",
    "        dss_via_com.ActiveCircuit.SetActiveElement(data_com[element]['element_name'])\n",
    "        data_com[element]['Power (kW)'].append(dss_via_com.ActiveCircuit.ActiveElement.Powers[0])\n",
    "        data_com[element]['Voltage (V)'].append(dss_via_com.ActiveCircuit.ActiveElement.VoltagesMagAng[0])\n",
    "\n",
    "end_com = time.time() # to capture the ending time dss via com"
   ],
   "outputs": [],
   "execution_count": null
  },
  {
   "metadata": {},
   "cell_type": "markdown",
   "source": [
    "#### Plot results\n",
    "This will plot the power and voltage of the PV System and House elements in the network using the COM interface."
   ]
  },
  {
   "metadata": {},
   "cell_type": "code",
   "source": [
    "# Create a figure and subplots\n",
    "fig, axes = plt.subplots(2, 2, figsize=(12, 8))\n",
    "fig.subplots_adjust(hspace=0.2, wspace=0.2)\n",
    "plt.suptitle('Using COM interface')\n",
    "\n",
    "primary_keys = list(data_com.keys())\n",
    "inner_keys = [key for key in data_com[primary_keys[0]].keys() if key != 'element_name']\n",
    "\n",
    "# Iterate over rows (primary keys) and columns (inner keys)\n",
    "for i, primary_key in enumerate(primary_keys):\n",
    "    for j, inner_key in enumerate(inner_keys):\n",
    "        ax = axes[i, j]  # Select subplot\n",
    "        # Set column title for the first row only\n",
    "        if i == 0: ax.set_title(inner_key, fontsize=12, fontweight='bold')\n",
    "        # Set row label for the first column only\n",
    "        if j == 0: ax.set_ylabel(primary_key, rotation=90, fontsize=12, fontweight='bold')\n",
    "            \n",
    "\n",
    "        # Example placeholder for empty data\n",
    "        ax.plot(data_com[primary_key][inner_key])  # Replace with actual data if available\n",
    "        ax.set_xticks([0, 6, 12, 18, 24])\n",
    "        \n",
    "plt.show()"
   ],
   "outputs": [],
   "execution_count": null
  },
  {
   "metadata": {},
   "cell_type": "markdown",
   "source": [
    "#### 2.2.3 Repeat the same using dss_via_python\n",
    "<font color='red'>**<u>Note 1</u>:**</font> If you copy the code to Python, remember to copy first the code from points 1.2 and 2.1."
   ]
  },
  {
   "metadata": {},
   "cell_type": "code",
   "source": [
    "start_dss = time.time()  # to capture the starting time for dss via python\n",
    "dss_via_python.Start(0)\n",
    "\n",
    "# Read the commands\n",
    "for cmd in text_commands:\n",
    "    dss_via_python.Text.Command = cmd\n",
    "    \n",
    "n_hours = 24 # Set the number of hours to run the simulation\n",
    "data_python = {\n",
    "    'PV System': {'element_name': 'generator.pv_system', 'Power (kW)': [], 'Voltage (V)': []},\n",
    "    'House': {'element_name': 'load.house', 'Power (kW)': [], 'Voltage (V)': []}\n",
    "}\n",
    "for t in range(n_hours):\n",
    "    dss_via_python.ActiveCircuit.Solution.Solve()\n",
    "    \n",
    "    for element in data_python.keys():\n",
    "        dss_via_python.ActiveCircuit.SetActiveElement(data_python[element]['element_name'])\n",
    "        data_python[element]['Power (kW)'].append(dss_via_python.ActiveCircuit.ActiveElement.Powers[0])\n",
    "        data_python[element]['Voltage (V)'].append(dss_via_python.ActiveCircuit.ActiveElement.VoltagesMagAng[0])\n",
    "\n",
    "end_dss = time.time() # to capture the ending time dss via com"
   ],
   "outputs": [],
   "execution_count": null
  },
  {
   "metadata": {},
   "cell_type": "markdown",
   "source": [
    "#### Plot results again, should match perfectly with the one above\n",
    "This will plot the power and voltage of the PV System and House elements in the network using the DSS-Python module."
   ]
  },
  {
   "metadata": {},
   "cell_type": "code",
   "source": [
    "# Create a figure and subplots\n",
    "fig, axes = plt.subplots(2, 2, figsize=(12, 8))\n",
    "fig.subplots_adjust(hspace=0.2, wspace=0.2)\n",
    "plt.suptitle('Using DSS-Python library')\n",
    "\n",
    "primary_keys = list(data_python.keys())\n",
    "inner_keys = [key for key in data_python[primary_keys[0]].keys() if key != 'element_name']\n",
    "\n",
    "# Iterate over rows (primary keys) and columns (inner keys)\n",
    "for i, primary_key in enumerate(primary_keys):\n",
    "    for j, inner_key in enumerate(inner_keys):\n",
    "        ax = axes[i, j]  # Select subplot\n",
    "        # Set column title for the first row only\n",
    "        if i == 0: ax.set_title(inner_key, fontsize=12, fontweight='bold')\n",
    "        # Set row label for the first column only\n",
    "        if j == 0: ax.set_ylabel(primary_key, rotation=90, fontsize=12, fontweight='bold')\n",
    "            \n",
    "\n",
    "        # Example placeholder for empty data\n",
    "        ax.plot(data_python[primary_key][inner_key])  # Replace with actual data if available\n",
    "        ax.set_xticks([0, 6, 12, 18, 24])\n",
    "        \n",
    "plt.show()"
   ],
   "outputs": [],
   "execution_count": null
  },
  {
   "metadata": {},
   "cell_type": "markdown",
   "source": [
    "#### 2.2.4 Check numerical differences and simulation times\n",
    "\n",
    "Difference between the results obtained using the COM interface and DSS-Python."
   ]
  },
  {
   "metadata": {
    "pycharm": {
     "name": "#%%\n"
    }
   },
   "cell_type": "code",
   "source": "print(np.array(data_com['PV System']['Voltage (V)']) - np.array(data_python['PV System']['Voltage (V)']))",
   "outputs": [],
   "execution_count": null
  },
  {
   "metadata": {
    "pycharm": {
     "name": "#%%\n"
    }
   },
   "cell_type": "code",
   "source": "print(np.array(data_com['PV System']['Power (kW)']) - np.array(data_python['PV System']['Power (kW)']))",
   "outputs": [],
   "execution_count": null
  },
  {
   "metadata": {},
   "cell_type": "markdown",
   "source": "Time taken to run the simulations."
  },
  {
   "metadata": {},
   "cell_type": "code",
   "source": "print(end_com-start_com, 'seconds')",
   "outputs": [],
   "execution_count": null
  },
  {
   "metadata": {},
   "cell_type": "code",
   "source": "print(end_dss-start_dss, 'seconds')",
   "outputs": [],
   "execution_count": null
  },
  {
   "metadata": {},
   "cell_type": "markdown",
   "source": [
    "### 2.3 Key Remarks\n",
    "Running OpenDSS via Python (using the **DSS-Python module**) is generally many times faster than running OpenDSS via the COM interface. Although the time difference above might look small, the gains are very evident when running large, complex simulations."
   ]
  },
  {
   "metadata": {},
   "cell_type": "markdown",
   "source": "## 3. Simulation Workspace"
  },
  {
   "metadata": {},
   "cell_type": "code",
   "source": "",
   "outputs": [],
   "execution_count": null
  }
 ],
 "metadata": {
  "kernelspec": {
   "display_name": "Python 3 (ipykernel)",
   "language": "python",
   "name": "python3"
  },
  "language_info": {
   "codemirror_mode": {
    "name": "ipython",
    "version": 3
   },
   "file_extension": ".py",
   "mimetype": "text/x-python",
   "name": "python",
   "nbconvert_exporter": "python",
   "pygments_lexer": "ipython3",
   "version": "3.9.13"
  }
 },
 "nbformat": 4,
 "nbformat_minor": 2
}
